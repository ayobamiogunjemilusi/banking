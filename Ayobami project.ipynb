{
 "cells": [
  {
   "cell_type": "code",
   "execution_count": 9,
   "id": "f929325a-3330-46d4-8140-acf240f292f3",
   "metadata": {},
   "outputs": [
    {
     "ename": "IndentationError",
     "evalue": "unindent does not match any outer indentation level (<tokenize>, line 16)",
     "output_type": "error",
     "traceback": [
      "\u001b[1;36m  File \u001b[1;32m<tokenize>:16\u001b[1;36m\u001b[0m\n\u001b[1;33m    else:\u001b[0m\n\u001b[1;37m    ^\u001b[0m\n\u001b[1;31mIndentationError\u001b[0m\u001b[1;31m:\u001b[0m unindent does not match any outer indentation level\n"
     ]
    }
   ],
   "source": [
    "class bank: \n",
    "    def __init__(self,balance=0):\n",
    "        self.balance = balance\n",
    "        self.username = input(\"Enter your username\")\n",
    "        self.pin = input(\"Enter your pin\")\n",
    "    def deposit(self):\n",
    "        pin = input(\"Enter your pin\")\n",
    "        \n",
    "        if self.pin == pin:\n",
    "           amount = int(input(\"Enter the amount you like to deposit\"))\n",
    "           if amount > 0 :\n",
    "                self.balance=+ amount\n",
    "                print(f\"Transaction Successful .Your new balance is {self.balance} \")\n",
    "           else:\n",
    "                print(\"Invalid amount\")\n",
    "       else:\n",
    "        print(\"Your pin is not correct\")\n",
    "        \n",
    "    def withdraw(self):\n",
    "        pinn = input(\"Enter your Transaction pin:\")\n",
    "        if pin == self.pin:\n",
    "            amount =  int(input(\"Enter the amount you like to withdraw\"))\n",
    "            if amount > 0 and amount <= self.balance :\n",
    "                self.balance = self.balance - amount\n",
    "                print(f\"Transaction Sucessful .Your new balance is {self.balance}\")\n",
    "            elif amount > self.balance:\n",
    "                print(f\"Transaction Failed. Your balance is {self.balance} \")\n",
    "            else:\n",
    "            print(\"Invalid amount\")\n",
    "        else:\n",
    "            print(\"Invalid pin\")\n",
    "    def check_balance(self):\n",
    "        pin = input(\"Enter your Transaction pin:\")\n",
    "        if pin == self.pin:\n",
    "             print(f\"Your account balance is {self.balance}\")\n",
    "        else:\n",
    "            print(\"Wrong Pin\")\n",
    "    def transfer(self):\n",
    "        amount = int(input(\"Enter the amount you like to transfer\"))\n",
    "        if amount > 0 and amount <= self.balance:\n",
    "            self.balance = self.balance - amount\n",
    "            print(f\"Transaction Sucessful .Your new balance is {self.balance}\")\n",
    "        elif amount > self.balance:\n",
    "            print(f\"Transaction Failed. Your balance is {self.balance} \")\n",
    "        else:\n",
    "            print(\"Invalid amount\")\n",
    "\n",
    "y = bank()\n",
    "def main():\n",
    "    while True:\n",
    "        print(\"1. Deposit\")\n",
    "        print(\"2. Withdraw\")\n",
    "        print(\"3. Check balance\")\n",
    "        print(\"4. Transfer\")\n",
    "        print(\"5. Exit\")\n",
    "        x = int(input(\"Enter the transaction you wish to perform\"))\n",
    "        if x == 1:\n",
    "            y.deposit()\n",
    "        elif x == 2:\n",
    "            y.withdraw()\n",
    "        elif x == 3:\n",
    "            y.check_balance()\n",
    "        elif x == 4:\n",
    "            y.transfer()\n",
    "        elif x == 0:\n",
    "            y.sign_in()\n",
    "        elif x == 5:\n",
    "            print(\"Goodbye\")\n",
    "            break\n",
    "        else:\n",
    "            print(\"Invalid input\")\n",
    "\n",
    "\n",
    "main()\n"
   ]
  },
  {
   "cell_type": "code",
   "execution_count": null,
   "id": "329ac185-2243-409f-b2cf-03cc4db76a15",
   "metadata": {},
   "outputs": [],
   "source": []
  }
 ],
 "metadata": {
  "kernelspec": {
   "display_name": "Python 3 (ipykernel)",
   "language": "python",
   "name": "python3"
  },
  "language_info": {
   "codemirror_mode": {
    "name": "ipython",
    "version": 3
   },
   "file_extension": ".py",
   "mimetype": "text/x-python",
   "name": "python",
   "nbconvert_exporter": "python",
   "pygments_lexer": "ipython3",
   "version": "3.11.7"
  }
 },
 "nbformat": 4,
 "nbformat_minor": 5
}
